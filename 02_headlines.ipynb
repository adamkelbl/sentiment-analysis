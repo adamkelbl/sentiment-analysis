{
 "cells": [
  {
   "cell_type": "markdown",
   "id": "8a43e131",
   "metadata": {},
   "source": [
    "### 2. Processing the S&P 500 News headlines data\n",
    "- Finding accesible, reliable and free-to-use data of this kind was hard\n",
    "- Therefore I decided to use data from Kaggle, specifically [this dataset](https://www.kaggle.com/datasets/dyutidasmahaptra/s-and-p-500-with-financial-news-headlines-20082024/data) with data from 2008 to 2024\n",
    "- With help from my AI coding assistant I used the [FinBert NLP model](https://huggingface.co/ProsusAI/finbert) to analyze sentiment of the headlines, resulting in three numeric outputs representing the probabilities of positive, neutral, and negative sentiment of each headline"
   ]
  },
  {
   "cell_type": "code",
   "execution_count": null,
   "id": "c32fdadf",
   "metadata": {},
   "outputs": [],
   "source": [
    "# Importing the libraries\n",
    "import pandas as pd\n",
    "import torch.nn.functional as F\n",
    "from transformers import AutoTokenizer, AutoModelForSequenceClassification\n",
    "from tqdm import tqdm"
   ]
  },
  {
   "cell_type": "code",
   "execution_count": null,
   "id": "98042f81",
   "metadata": {},
   "outputs": [],
   "source": [
    "df = pd.read_csv(\"/Users/adamkelbl/Code/python/Datathon/sentiment_analysis/05_sp500_headlines_2008_2024.csv\")\n",
    "df.drop([\"CP\"], axis=1, inplace=True)\n",
    "df = df.set_index([\"Date\"])\n",
    "df.index = pd.to_datetime(df.index)\n",
    "df = df.loc['2014':'2023']\n",
    "df.head()"
   ]
  },
  {
   "cell_type": "code",
   "execution_count": null,
   "id": "f8147996",
   "metadata": {},
   "outputs": [],
   "source": [
    "model_name = \"yiyanghkust/finbert-tone\"\n",
    "tokenizer = AutoTokenizer.from_pretrained(model_name)\n",
    "model = AutoModelForSequenceClassification.from_pretrained(model_name)\n",
    "model.eval()\n",
    "\n",
    "def batch_sentiment_analysis(texts, batch_size=32):\n",
    "    results = []\n",
    "    for i in tqdm(range(0, len(texts), batch_size)):\n",
    "        batch = texts[i:i+batch_size]\n",
    "        encodings = tokenizer(batch, return_tensors='pt', padding=True, truncation=True)\n",
    "        with torch.no_grad():\n",
    "            outputs = model(**encodings)\n",
    "            probs = F.softmax(outputs.logits, dim=1).cpu().numpy()\n",
    "        results.extend(probs)\n",
    "    return results\n",
    "\n",
    "headlines = df['Title'].tolist()\n",
    "probs = batch_sentiment_analysis(headlines, batch_size=32)\n",
    "probs_df = pd.DataFrame(probs, columns=['positive', 'negative', 'neutral'])\n",
    "df_reset = df.reset_index()\n",
    "df_combined = pd.concat([df_reset[['Date', 'Title']], probs_df], axis=1)\n",
    "df_combined['Date'] = pd.to_datetime(df_combined['Date'])\n",
    "df_combined = df_combined.set_index('Date')\n",
    "df_combined = df_combined[['Title', 'positive', 'neutral', 'negative']]\n",
    "df_combined.to_csv('06_headlines_data.csv')\n",
    "df_combined.head()"
   ]
  }
 ],
 "metadata": {
  "kernelspec": {
   "display_name": "Python 3",
   "language": "python",
   "name": "python3"
  },
  "language_info": {
   "codemirror_mode": {
    "name": "ipython",
    "version": 3
   },
   "file_extension": ".py",
   "mimetype": "text/x-python",
   "name": "python",
   "nbconvert_exporter": "python",
   "pygments_lexer": "ipython3",
   "version": "3.13.3"
  }
 },
 "nbformat": 4,
 "nbformat_minor": 5
}
