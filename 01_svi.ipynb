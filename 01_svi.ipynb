{
 "cells": [
  {
   "cell_type": "markdown",
   "id": "4a4074d3",
   "metadata": {},
   "source": [
    "### 1. Downloading the Google SVI data\n",
    "- I downloaded the Google SVI data using the **LongTrends** python package.\n",
    "- I chose this package over the known PyTrends because Google Trends limits the time period which can be downloaded using a single request and I needed a single time series for a period of 10 years for each keyword.\n",
    "- PyTrends automatically normalizes Google Trends data on a scale from 0 to 100, where 100 represents the peak popularity of the keyword during the selected time period. All other values are scaled relative to this maximum.\n",
    "- The LongTrends package downloads overlapping trends using PyTrends and rescales them, providing trend data across a long-term period.\n",
    "- I was having trouble with Google blocking my data downloads, so I used a coding AI assistant to help write the algorithm and manually changed my VPN address between each fetch."
   ]
  },
  {
   "cell_type": "code",
   "execution_count": 18,
   "id": "db5d529d",
   "metadata": {},
   "outputs": [],
   "source": [
    "# Importing libraries\n",
    "import pandas as pd\n",
    "from longtrends import LongTrend\n",
    "import os"
   ]
  },
  {
   "cell_type": "code",
   "execution_count": 19,
   "id": "313f8d16",
   "metadata": {},
   "outputs": [
    {
     "name": "stdout",
     "output_type": "stream",
     "text": [
      "Loading existing data from 04_svi_data.csv\n"
     ]
    }
   ],
   "source": [
    "# Defining keywords, timeframe and creating the .csv file\n",
    "#keywords: stock market crash, bear market, bull market, stock bubble, market volatility, S&P 500, recession,\n",
    "# interest rates, inflation, financial crisis\n",
    "\n",
    "start = pd.to_datetime(\"2014-01-01\")\n",
    "end = pd.to_datetime(\"2023-12-31\")\n",
    "csv_file = \"04_svi_data.csv\"\n",
    "\n",
    "if os.path.exists(csv_file):\n",
    "    print(f\"Loading existing data from {csv_file}\")\n",
    "    combined_df = pd.read_csv(csv_file, index_col=0)\n",
    "    if not isinstance(combined_df.index, pd.DatetimeIndex):\n",
    "        combined_df.index = pd.to_datetime(combined_df.index)\n",
    "else:\n",
    "    print(\"No existing data found. Creating a new DataFrame.\")\n",
    "    date_index = pd.date_range(start=start, end=end, freq='D')\n",
    "    combined_df = pd.DataFrame(index=date_index)"
   ]
  },
  {
   "cell_type": "code",
   "execution_count": 20,
   "id": "c0b8c897",
   "metadata": {},
   "outputs": [
    {
     "name": "stdout",
     "output_type": "stream",
     "text": [
      "Data for 'stock market crash' already exists. Skipping.\n"
     ]
    }
   ],
   "source": [
    "# Keyword: stock market crash\n",
    "kw = \"stock market crash\"\n",
    "if kw not in combined_df.columns or combined_df[kw].isnull().all():\n",
    "    print(f\"Fetching '{kw}'\")\n",
    "    try:\n",
    "        lt = LongTrend(keyword=kw, start_date=start, end_date=end)\n",
    "        df = lt.build()\n",
    "        df = df.rename(kw)\n",
    "        combined_df[kw] = df\n",
    "        combined_df.to_csv(csv_file)\n",
    "        print(f\"Done: '{kw}'. Data saved to {csv_file}\")\n",
    "        print(combined_df.head())\n",
    "    except Exception as e:\n",
    "        print(f\"Error for {kw}: {e}\")\n",
    "else:\n",
    "    print(f\"Data for '{kw}' already exists. Skipping.\")"
   ]
  },
  {
   "cell_type": "code",
   "execution_count": 21,
   "id": "cdfc3be9",
   "metadata": {},
   "outputs": [
    {
     "name": "stdout",
     "output_type": "stream",
     "text": [
      "Data for 'bear market' already exists. Skipping.\n"
     ]
    }
   ],
   "source": [
    "# Keyword: bear market\n",
    "kw = \"bear market\"\n",
    "if kw not in combined_df.columns or combined_df[kw].isnull().all():\n",
    "    print(f\"Fetching '{kw}'\")\n",
    "    try:\n",
    "        lt = LongTrend(keyword=kw, start_date=start, end_date=end)\n",
    "        df = lt.build()\n",
    "        df = df.rename(kw)\n",
    "        combined_df[kw] = df\n",
    "        combined_df.to_csv(csv_file)\n",
    "        print(f\"Done: '{kw}'. Data saved to {csv_file}\")\n",
    "        print(combined_df.head())\n",
    "    except Exception as e:\n",
    "        print(f\"Error for {kw}: {e}\")\n",
    "else:\n",
    "    print(f\"Data for '{kw}' already exists. Skipping.\")"
   ]
  },
  {
   "cell_type": "code",
   "execution_count": 22,
   "id": "9719dd9c",
   "metadata": {},
   "outputs": [
    {
     "name": "stdout",
     "output_type": "stream",
     "text": [
      "Data for 'bull market' already exists. Skipping.\n"
     ]
    }
   ],
   "source": [
    "# Keyword: bull market\n",
    "kw = \"bull market\"\n",
    "if kw not in combined_df.columns or combined_df[kw].isnull().all():\n",
    "    print(f\"Fetching '{kw}'\")\n",
    "    try:\n",
    "        lt = LongTrend(keyword=kw, start_date=start, end_date=end)\n",
    "        df = lt.build()\n",
    "        df = df.rename(kw)\n",
    "        combined_df[kw] = df\n",
    "        combined_df.to_csv(csv_file)\n",
    "        print(f\"Done: '{kw}'. Data saved to {csv_file}\")\n",
    "        print(combined_df.head())\n",
    "    except Exception as e:\n",
    "        print(f\"Error for {kw}: {e}\")\n",
    "else:\n",
    "    print(f\"Data for '{kw}' already exists. Skipping.\")"
   ]
  },
  {
   "cell_type": "code",
   "execution_count": 23,
   "id": "e6b87c1d",
   "metadata": {},
   "outputs": [
    {
     "name": "stdout",
     "output_type": "stream",
     "text": [
      "Data for 'stock bubble' already exists. Skipping.\n"
     ]
    }
   ],
   "source": [
    "# Keyword: stock bubble\n",
    "kw = \"stock bubble\"\n",
    "if kw not in combined_df.columns or combined_df[kw].isnull().all():\n",
    "    print(f\"Fetching '{kw}'\")\n",
    "    try:\n",
    "        lt = LongTrend(keyword=kw, start_date=start, end_date=end)\n",
    "        df = lt.build()\n",
    "        df = df.rename(kw)\n",
    "        combined_df[kw] = df\n",
    "        combined_df.to_csv(csv_file)\n",
    "        print(f\"Done: '{kw}'. Data saved to {csv_file}\")\n",
    "        print(combined_df.head())\n",
    "    except Exception as e:\n",
    "        print(f\"Error for {kw}: {e}\")\n",
    "else:\n",
    "    print(f\"Data for '{kw}' already exists. Skipping.\")"
   ]
  },
  {
   "cell_type": "code",
   "execution_count": 24,
   "id": "48193535",
   "metadata": {},
   "outputs": [
    {
     "name": "stdout",
     "output_type": "stream",
     "text": [
      "Data for 'market volatility' already exists. Skipping.\n"
     ]
    }
   ],
   "source": [
    "# Keyword: market volatility\n",
    "kw = \"market volatility\"\n",
    "if kw not in combined_df.columns or combined_df[kw].isnull().all():\n",
    "    print(f\"Fetching '{kw}'\")\n",
    "    try:\n",
    "        lt = LongTrend(keyword=kw, start_date=start, end_date=end)\n",
    "        df = lt.build()\n",
    "        df = df.rename(kw)\n",
    "        combined_df[kw] = df\n",
    "        combined_df.to_csv(csv_file)\n",
    "        print(f\"Done: '{kw}'. Data saved to {csv_file}\")\n",
    "        print(combined_df.head())\n",
    "    except Exception as e:\n",
    "        print(f\"Error for {kw}: {e}\")\n",
    "else:\n",
    "    print(f\"Data for '{kw}' already exists. Skipping.\")"
   ]
  },
  {
   "cell_type": "code",
   "execution_count": 25,
   "id": "b5cb796f",
   "metadata": {},
   "outputs": [
    {
     "name": "stdout",
     "output_type": "stream",
     "text": [
      "Data for 'S&P 500' already exists. Skipping.\n"
     ]
    }
   ],
   "source": [
    "# Keyword: S&P 500\n",
    "kw = \"S&P 500\"\n",
    "if kw not in combined_df.columns or combined_df[kw].isnull().all():\n",
    "    print(f\"Fetching '{kw}'\")\n",
    "    try:\n",
    "        lt = LongTrend(keyword=kw, start_date=start, end_date=end)\n",
    "        df = lt.build()\n",
    "        df = df.rename(kw)\n",
    "        combined_df[kw] = df\n",
    "        combined_df.to_csv(csv_file)\n",
    "        print(f\"Done: '{kw}'. Data saved to {csv_file}\")\n",
    "        print(combined_df.head())\n",
    "    except Exception as e:\n",
    "        print(f\"Error for {kw}: {e}\")\n",
    "else:\n",
    "    print(f\"Data for '{kw}' already exists. Skipping.\")"
   ]
  },
  {
   "cell_type": "code",
   "execution_count": 26,
   "id": "8429e1d4",
   "metadata": {},
   "outputs": [
    {
     "name": "stdout",
     "output_type": "stream",
     "text": [
      "Data for 'recession' already exists. Skipping.\n"
     ]
    }
   ],
   "source": [
    "# Keyword: recession\n",
    "kw = \"recession\"\n",
    "if kw not in combined_df.columns or combined_df[kw].isnull().all():\n",
    "    print(f\"Fetching '{kw}'\")\n",
    "    try:\n",
    "        lt = LongTrend(keyword=kw, start_date=start, end_date=end)\n",
    "        df = lt.build()\n",
    "        df = df.rename(kw)\n",
    "        combined_df[kw] = df\n",
    "        combined_df.to_csv(csv_file)\n",
    "        print(f\"Done: '{kw}'. Data saved to {csv_file}\")\n",
    "        print(combined_df.head())\n",
    "    except Exception as e:\n",
    "        print(f\"Error for {kw}: {e}\")\n",
    "else:\n",
    "    print(f\"Data for '{kw}' already exists. Skipping.\")"
   ]
  },
  {
   "cell_type": "code",
   "execution_count": 27,
   "id": "1cdf061e",
   "metadata": {},
   "outputs": [
    {
     "name": "stdout",
     "output_type": "stream",
     "text": [
      "Data for 'interest rates' already exists. Skipping.\n"
     ]
    }
   ],
   "source": [
    "# Keyword: interest rates\n",
    "kw = \"interest rates\"\n",
    "if kw not in combined_df.columns or combined_df[kw].isnull().all():\n",
    "    print(f\"Fetching '{kw}'\")\n",
    "    try:\n",
    "        lt = LongTrend(keyword=kw, start_date=start, end_date=end)\n",
    "        df = lt.build()\n",
    "        df = df.rename(kw)\n",
    "        combined_df[kw] = df\n",
    "        combined_df.to_csv(csv_file)\n",
    "        print(f\"Done: '{kw}'. Data saved to {csv_file}\")\n",
    "        print(combined_df.head())\n",
    "    except Exception as e:\n",
    "        print(f\"Error for {kw}: {e}\")\n",
    "else:\n",
    "    print(f\"Data for '{kw}' already exists. Skipping.\")"
   ]
  },
  {
   "cell_type": "code",
   "execution_count": 28,
   "id": "29c3588d",
   "metadata": {},
   "outputs": [
    {
     "name": "stdout",
     "output_type": "stream",
     "text": [
      "Data for 'inflation' already exists. Skipping.\n"
     ]
    }
   ],
   "source": [
    "# Keyword: inflation\n",
    "kw = \"inflation\"\n",
    "if kw not in combined_df.columns or combined_df[kw].isnull().all():\n",
    "    print(f\"Fetching '{kw}'\")\n",
    "    try:\n",
    "        lt = LongTrend(keyword=kw, start_date=start, end_date=end)\n",
    "        df = lt.build()\n",
    "        df = df.rename(kw)\n",
    "        combined_df[kw] = df\n",
    "        combined_df.to_csv(csv_file)\n",
    "        print(f\"Done: '{kw}'. Data saved to {csv_file}\")\n",
    "        print(combined_df.head())\n",
    "    except Exception as e:\n",
    "        print(f\"Error for {kw}: {e}\")\n",
    "else:\n",
    "    print(f\"Data for '{kw}' already exists. Skipping.\")"
   ]
  },
  {
   "cell_type": "code",
   "execution_count": 29,
   "id": "e7e5f921",
   "metadata": {},
   "outputs": [
    {
     "name": "stdout",
     "output_type": "stream",
     "text": [
      "Data for 'financial crisis' already exists. Skipping.\n"
     ]
    }
   ],
   "source": [
    "# Keyword: economic slowdown\n",
    "kw = \"financial crisis\"\n",
    "if kw not in combined_df.columns or combined_df[kw].isnull().all():\n",
    "    print(f\"Fetching '{kw}'\")\n",
    "    try:\n",
    "        lt = LongTrend(keyword=kw, start_date=start, end_date=end)\n",
    "        df = lt.build()\n",
    "        df = df.rename(kw)\n",
    "        combined_df[kw] = df\n",
    "        combined_df.to_csv(csv_file)\n",
    "        print(f\"Done: '{kw}'. Data saved to {csv_file}\")\n",
    "        print(combined_df.head())\n",
    "    except Exception as e:\n",
    "        print(f\"Error for {kw}: {e}\")\n",
    "else:\n",
    "    print(f\"Data for '{kw}' already exists. Skipping.\")"
   ]
  }
 ],
 "metadata": {
  "kernelspec": {
   "display_name": "Python 3",
   "language": "python",
   "name": "python3"
  },
  "language_info": {
   "codemirror_mode": {
    "name": "ipython",
    "version": 3
   },
   "file_extension": ".py",
   "mimetype": "text/x-python",
   "name": "python",
   "nbconvert_exporter": "python",
   "pygments_lexer": "ipython3",
   "version": "3.13.3"
  }
 },
 "nbformat": 4,
 "nbformat_minor": 5
}
